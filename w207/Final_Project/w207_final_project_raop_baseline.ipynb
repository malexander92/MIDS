{
 "cells": [
  {
   "cell_type": "code",
   "execution_count": 85,
   "metadata": {
    "collapsed": false
   },
   "outputs": [],
   "source": [
    "\"\"\"\n",
    "\n",
    "Baseline submission for Random Acts of Pizza\n",
    "Michael Alexander\n",
    "\n",
    "\"\"\"\n",
    "\n",
    "%matplotlib inline\n",
    "\n",
    "import json\n",
    "import pandas\n",
    "from pprint import pprint\n",
    "import matplotlib.pyplot as plt\n",
    "import numpy as np\n",
    "from sklearn import tree\n",
    "from sklearn.tree import DecisionTreeClassifier\n",
    "from sklearn.ensemble import RandomForestClassifier \n",
    "from sklearn.ensemble import AdaBoostClassifier\n",
    "from sklearn.neighbors import KNeighborsClassifier\n",
    "from sklearn.naive_bayes import BernoulliNB\n",
    "from sklearn.metrics import classification_report"
   ]
  },
  {
   "cell_type": "code",
   "execution_count": 74,
   "metadata": {
    "collapsed": false
   },
   "outputs": [],
   "source": [
    "#Loading in initial json data from kaggle\n",
    "\n",
    "path = 'C:/Users/malexander/Dropbox/MIDS/W207/Final_Project/Data/RAOP/'\n",
    "train_file = 'train.json'\n",
    "test_file = 'test.json'\n",
    "\n",
    "#loading json files to dataframes\n",
    "train_json = json.load(open(path+train_file))\n",
    "test_json = json.load(open(path+test_file))\n",
    "\n",
    "train_df = pandas.io.json.json_normalize(train_json)\n",
    "test_df = pandas.io.json.json_normalize(test_json)\n",
    "\n",
    "#Creating label, true/false\n",
    "train_label_df = train_df.requester_received_pizza\n",
    "\n",
    "#Subset of columns in train that are available in test\n",
    "train_df = train_df[list(test_df)]\n",
    "\n",
    "#Converting to np arrays\n",
    "train_base = np.array(train_df.values)\n",
    "test_base = np.array(test_df.values)\n",
    "train_labels_base = np.array(train_label_df.values)\n",
    "\n",
    "#Shuffling data and splitting into test and dev for training\n",
    "np.random.seed(0)\n",
    "shuffle = np.random.permutation(np.arange(train_base.shape[0]))\n",
    "train_base, train_labels_base = train_base[shuffle], train_labels_base[shuffle]\n",
    "\n",
    "#Only using numeric variables for now\n",
    "numeric_variables = [4,5,6,7,8,9,10,12,13]\n",
    "\n",
    "train_data, train_labels = train_base[:3000,numeric_variables], train_labels_base[:3000]\n",
    "dev_data, dev_labels = train_base[3000:,numeric_variables], train_labels_base[3000:]\n",
    "test_data = test_base[:,numeric_variables]"
   ]
  },
  {
   "cell_type": "code",
   "execution_count": 82,
   "metadata": {
    "collapsed": false
   },
   "outputs": [
    {
     "name": "stdout",
     "output_type": "stream",
     "text": [
      "Accuracy (a decision tree): 0.643269230769\n",
      "Accuracy (a random forest): 0.728846153846\n",
      "Accuracy (adaboost with decision trees): 0.75\n"
     ]
    }
   ],
   "source": [
    "# Training decision tree, random forest, and ada boost models\n",
    "\n",
    "dt = DecisionTreeClassifier(criterion=\"entropy\", splitter=\"best\", random_state=0)\n",
    "dt.fit(train_data, train_labels)\n",
    "\n",
    "print 'Accuracy (a decision tree):', dt.score(dev_data, dev_labels)\n",
    "\n",
    "rfc = RandomForestClassifier(n_estimators=100)\n",
    "rfc.fit(train_data, train_labels)\n",
    "\n",
    "print 'Accuracy (a random forest):', rfc.score(dev_data, dev_labels)\n",
    "\n",
    "abc = AdaBoostClassifier(base_estimator=DecisionTreeClassifier(max_depth=1), n_estimators=100, learning_rate=0.1)\n",
    "\n",
    "abc.fit(train_data, train_labels)\n",
    "print 'Accuracy (adaboost with decision trees):', abc.score(dev_data, dev_labels)"
   ]
  },
  {
   "cell_type": "code",
   "execution_count": 88,
   "metadata": {
    "collapsed": false
   },
   "outputs": [
    {
     "name": "stdout",
     "output_type": "stream",
     "text": [
      "k = 10 accuracy: 0.738461538462\n",
      "k = 20 accuracy: 0.746153846154\n",
      "k = 30 accuracy: 0.746153846154\n",
      "k = 40 accuracy: 0.746153846154\n",
      "k = 50 accuracy: 0.746153846154\n",
      "k = 100 accuracy: 0.746153846154\n",
      "Classification Report:\n",
      "             precision    recall  f1-score   support\n",
      "\n",
      "      False       0.75      1.00      0.85       776\n",
      "       True       0.00      0.00      0.00       264\n",
      "\n",
      "avg / total       0.56      0.75      0.64      1040\n",
      "\n"
     ]
    }
   ],
   "source": [
    "# KNN test\n",
    "\n",
    "for i in [10,20,30,40,50,100]:    \n",
    "    \n",
    "    knn_test = KNeighborsClassifier(n_neighbors = i)\n",
    "\n",
    "    knn_test.fit(train_data, train_labels)\n",
    "    \n",
    "    print 'k = ' + str(i) + ' accuracy: ' + str(knn_test.score(dev_data,dev_labels))  \n",
    "\n",
    "knn_predictions = knn_test.predict(dev_data)\n",
    "\n",
    "print 'Classification Report:'\n",
    "print(classification_report(dev_labels, knn_predictions))"
   ]
  },
  {
   "cell_type": "code",
   "execution_count": 90,
   "metadata": {
    "collapsed": false
   },
   "outputs": [
    {
     "name": "stdout",
     "output_type": "stream",
     "text": [
      "Accuracy of the Bernoulli Naive Bayes model: 0.698076923077\n",
      "Classification Report:\n",
      "             precision    recall  f1-score   support\n",
      "\n",
      "      False       0.76      0.86      0.81       776\n",
      "       True       0.35      0.22      0.27       264\n",
      "\n",
      "avg / total       0.66      0.70      0.67      1040\n",
      "\n"
     ]
    }
   ],
   "source": [
    "# Bernoulli Naive Bayes test\n",
    "\n",
    "B_NB_model = BernoulliNB()\n",
    "\n",
    "B_NB_model.fit(train_data, train_labels)\n",
    "\n",
    "print 'Accuracy of the Bernoulli Naive Bayes model: ' + str(B_NB_model.score(dev_data, dev_labels))\n",
    "\n",
    "B_NB_predictions = B_NB_model.predict(dev_data)\n",
    "\n",
    "print 'Classification Report:'\n",
    "print(classification_report(dev_labels, B_NB_predictions))"
   ]
  },
  {
   "cell_type": "code",
   "execution_count": 73,
   "metadata": {
    "collapsed": false
   },
   "outputs": [],
   "source": [
    "# Creating test predictions\n",
    "\n",
    "test_predictions = abc.predict(test_data)\n",
    "\n",
    "test_request_ids = test_base[:,1]\n",
    "\n",
    "# Converting predictions to binary\n",
    "test_predictions_int = []\n",
    "\n",
    "for i in range(len(test_predictions)):\n",
    "    test_predictions_int.append(int(test_predictions[i]))\n",
    "\n",
    "# Exporting submission csv\n",
    "submission_df = pandas.DataFrame({\"request_id\" : test_request_ids, \"requester_received_pizza\" : test_predictions_int})\n",
    "submission_df.to_csv(path+\"Submission.csv\", index=False)\n"
   ]
  },
  {
   "cell_type": "code",
   "execution_count": null,
   "metadata": {
    "collapsed": true
   },
   "outputs": [],
   "source": []
  }
 ],
 "metadata": {
  "anaconda-cloud": {},
  "kernelspec": {
   "display_name": "Python [conda root]",
   "language": "python",
   "name": "conda-root-py"
  },
  "language_info": {
   "codemirror_mode": {
    "name": "ipython",
    "version": 2
   },
   "file_extension": ".py",
   "mimetype": "text/x-python",
   "name": "python",
   "nbconvert_exporter": "python",
   "pygments_lexer": "ipython2",
   "version": "2.7.12"
  }
 },
 "nbformat": 4,
 "nbformat_minor": 1
}
